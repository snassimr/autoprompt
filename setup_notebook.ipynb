{
 "cells": [
  {
   "cell_type": "code",
   "execution_count": 1,
   "metadata": {},
   "outputs": [],
   "source": [
    "import os"
   ]
  },
  {
   "cell_type": "code",
   "execution_count": 2,
   "metadata": {},
   "outputs": [],
   "source": [
    "SYS_PROJECT_DIR  = os.getcwd()\n",
    "os.environ['HF_HOME'] = '/home/matatov.n/projects/autoprompt'"
   ]
  },
  {
   "cell_type": "markdown",
   "metadata": {},
   "source": [
    "## Download deepseek-math-7b-rl "
   ]
  },
  {
   "cell_type": "code",
   "execution_count": 3,
   "metadata": {},
   "outputs": [],
   "source": [
    "# model_hf_path = 'https://huggingface.co/deepseek-ai/deepseek-math-7b-rl'\n",
    "# model_local_path = 'deepseek-ai/deepseek-math-7b-rl'\n",
    "# !git clone {model_hf_path} {model_local_path}"
   ]
  },
  {
   "cell_type": "markdown",
   "metadata": {},
   "source": [
    "# Install AutoPrompt"
   ]
  },
  {
   "cell_type": "code",
   "execution_count": 4,
   "metadata": {},
   "outputs": [],
   "source": [
    "# autoprompt_git_path = \"https://github.com/Eladlev/AutoPrompt.git\"\n",
    "# autoprompt_path = os.path.join(SYS_PROJECT_DIR,'AutoPrompt')\n",
    "# !git clone '{autoprompt_git_path}' '{autoprompt_path}'"
   ]
  },
  {
   "cell_type": "code",
   "execution_count": 5,
   "metadata": {},
   "outputs": [],
   "source": [
    "# %%bash\n",
    "# cd autoprompt/AutoPrompt\n",
    "# conda create -n AutoPrompt python=3.10\n",
    "# conda activate AutoPrompt\n",
    "# pip install -r requirements.txt"
   ]
  },
  {
   "cell_type": "markdown",
   "metadata": {},
   "source": [
    "# run_pipeline.py"
   ]
  },
  {
   "cell_type": "code",
   "execution_count": 6,
   "metadata": {},
   "outputs": [
    {
     "name": "stderr",
     "output_type": "stream",
     "text": [
      "/home/matatov.n/miniconda3/envs/AutoPrompt/lib/python3.10/site-packages/transformers/utils/generic.py:441: UserWarning: torch.utils._pytree._register_pytree_node is deprecated. Please use torch.utils._pytree.register_pytree_node instead.\n",
      "  _torch_pytree._register_pytree_node(\n",
      "/home/matatov.n/miniconda3/envs/AutoPrompt/lib/python3.10/site-packages/langchain_core/_api/deprecation.py:119: LangChainDeprecationWarning: The class `ChatOpenAI` was deprecated in LangChain 0.0.10 and will be removed in 0.3.0. An updated version of the class exists in the langchain-openai package and should be used instead. To use it run `pip install -U langchain-openai` and import as `from langchain_openai import ChatOpenAI`.\n",
      "  warn_deprecated(\n",
      "/home/matatov.n/miniconda3/envs/AutoPrompt/lib/python3.10/site-packages/argilla/client/client.py:195: UserWarning: You're connecting to Argilla Server 1.29.0 using a different client version (1.25.0).\n",
      "This may lead to potential compatibility issues during your experience.\n",
      "To ensure a seamless and optimized connection, we highly recommend aligning your client version with the server version.\n",
      "  warnings.warn(\n"
     ]
    },
    {
     "name": "stdout",
     "output_type": "stream",
     "text": [
      "Starting step 0\n",
      "\u001b[2KLogging... \u001b[90m━━━━━━━━━━━━━━━━━━━━━━━━━━━━━━━━━━━━━━━━\u001b[0m \u001b[35m100%\u001b[0m \u001b[36m0:00:00\u001b[0m\n",
      "\u001b[?25h\u001b[1;36m5\u001b[0m records logged to \n",
      "\u001b]8;id=383843;https://nimatov-aimo-argilla.hf.space/datasets/admin/dataset__24_06_2024_22_50_53\u001b\\\u001b[4;94mhttps://nimatov-aimo-argilla.hf.space/datasets/admin/dataset__24_06_2024_22_50_5\u001b[0m\u001b]8;;\u001b\\\n",
      "\u001b]8;id=383843;https://nimatov-aimo-argilla.hf.space/datasets/admin/dataset__24_06_2024_22_50_53\u001b\\\u001b[4;94m3\u001b[0m\u001b]8;;\u001b\\\n",
      "\u001b[92mWaiting for annotations from batch 0:\n",
      "https://nimatov-aimo-argilla.hf.space/datasets/admin/dataset__24_06_2024_22_50_53?query=eyJtZXRhZGF0YSI6IHsiYmF0Y2hfaWQiOiBbIjAiXX19\u001b[0m\n"
     ]
    },
    {
     "name": "stderr",
     "output_type": "stream",
     "text": [
      "/home/matatov.n/miniconda3/envs/AutoPrompt/lib/python3.10/site-packages/transformers/utils/generic.py:309: UserWarning: torch.utils._pytree._register_pytree_node is deprecated. Please use torch.utils._pytree.register_pytree_node instead.\n",
      "  _torch_pytree._register_pytree_node(\n",
      "/home/matatov.n/miniconda3/envs/AutoPrompt/lib/python3.10/site-packages/huggingface_hub/file_download.py:1132: FutureWarning: `resume_download` is deprecated and will be removed in version 1.0.0. Downloads always resume when possible. If you want to force a new download, use `force_download=True`.\n",
      "  warnings.warn(\n"
     ]
    }
   ],
   "source": [
    "%%bash\n",
    "cd AutoPrompt\n",
    "python run_pipeline.py \\\n",
    "    --prompt \"Does this movie review contain a spoiler? answer Yes or No\" \\\n",
    "    --task_description \"Assistant is an expert classifier that will classify a movie review, and let the user know if it contains a spoiler for the reviewed movie or not.\" \\\n",
    "    --num_steps 3"
   ]
  },
  {
   "cell_type": "markdown",
   "metadata": {},
   "source": []
  }
 ],
 "metadata": {
  "kernelspec": {
   "display_name": "llmallm",
   "language": "python",
   "name": "python3"
  },
  "language_info": {
   "codemirror_mode": {
    "name": "ipython",
    "version": 3
   },
   "file_extension": ".py",
   "mimetype": "text/x-python",
   "name": "python",
   "nbconvert_exporter": "python",
   "pygments_lexer": "ipython3",
   "version": "3.10.14"
  }
 },
 "nbformat": 4,
 "nbformat_minor": 2
}
